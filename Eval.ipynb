{
 "cells": [
  {
   "cell_type": "code",
   "execution_count": null,
   "metadata": {},
   "outputs": [],
   "source": [
    "from tqdm import tqdm\n",
    "import numpy as np\n",
    "import pandas as pd\n",
    "import time\n",
    "import datetime\n",
    "import sys\n",
    "import matplotlib.pyplot as plt\n",
    "import seaborn as sns\n",
    "import os\n",
    "import shutil\n",
    "import json\n",
    "import pickle\n",
    "import itertools\n",
    "from scipy.signal import savgol_filter\n",
    "\n",
    "np.random.seed(42)\n",
    "\n",
    "from formats import experiment_pb2\n",
    "from formats import  quantification_pb2\n",
    "\n",
    "from skimage import io\n",
    "import pandas as pd\n",
    "import utils\n",
    "\n",
    "\n",
    "from sklearn.decomposition import PCA\n",
    "from sklearn.preprocessing import MinMaxScaler\n",
    "\n",
    "import torch\n",
    "from torch.utils.data import Dataset, DataLoader, ConcatDataset, ChainDataset\n",
    "\n",
    "\n",
    "import pyro\n",
    "import pyro.distributions as dist\n",
    "import pyro.poutine\n",
    "from pyro.infer import MCMC, NUTS\n",
    "import math\n",
    "import torch.nn as nn\n",
    "import torch.nn.functional as F\n",
    "from pyro.infer import SVI, Trace_ELBO\n",
    "from pyro.optim import Adam\n",
    "from pyro.infer.autoguide.guides import AutoDiagonalNormal\n",
    "import pyro.distributions.constraints as constraints\n",
    "from tqdm import trange\n",
    "\n",
    "import utils\n",
    "\n"
   ]
  },
  {
   "cell_type": "code",
   "execution_count": null,
   "metadata": {},
   "outputs": [],
   "source": [
    "local_radius_px = 5"
   ]
  },
  {
   "cell_type": "code",
   "execution_count": null,
   "metadata": {},
   "outputs": [],
   "source": [
    "device = torch.device(\"cuda:0\" if torch.cuda.is_available() else \"cpu\") \n"
   ]
  },
  {
   "cell_type": "code",
   "execution_count": null,
   "metadata": {},
   "outputs": [],
   "source": [
    "import data\n",
    "dataset = data.get_dataset(local_radius_px=local_radius_px)\n",
    "data_loader = torch.utils.data.DataLoader(dataset=dataset,batch_size=512)"
   ]
  },
  {
   "cell_type": "code",
   "execution_count": null,
   "metadata": {},
   "outputs": [],
   "source": [
    "from importlib import reload\n",
    "import models\n",
    "reload(models)\n",
    "from models import FusionModel, NaiveFusionModel, JointVAE"
   ]
  },
  {
   "cell_type": "code",
   "execution_count": null,
   "metadata": {},
   "outputs": [],
   "source": [
    "def eval_recon(x_hat,q_hat, x, q):\n",
    "    x_flat = x.reshape(-1,x.shape[-1])\n",
    "    x_hat = x_hat.reshape(-1,x.shape[-1])\n",
    "\n",
    "    x_mean = x_flat.mean(0)\n",
    "    x_ssr = (x_flat - x_hat).pow(2).sum()\n",
    "    x_sst = (x_flat - x_mean).pow(2).sum()\n",
    "    x_r2 = 1 - x_ssr/x_sst\n",
    "\n",
    "    q_mean = q.mean(0)\n",
    "    q_ssr = (q - q_hat).pow(2).sum()\n",
    "    q_sst = (q - q_mean).pow(2).sum()\n",
    "    q_r2 = 1 - q_ssr/q_sst\n",
    "\n",
    "    return x_r2.item(),q_r2.item()"
   ]
  },
  {
   "cell_type": "code",
   "execution_count": null,
   "metadata": {},
   "outputs": [],
   "source": [
    "def eval_model(z,c,m,h=256,d=4,r=5,dir='models'):\n",
    "    model = torch.load(f'{dir}/{m.__name__}-z-{z}-c-{c}-h-{h}-d-{d}-r-{r}.pt').eval().to(device)    \n",
    "    x , q = [], []\n",
    "    # c, z = [], []\n",
    "    x_hat, q_hat = [], []\n",
    "    for batch_x,batch_q in tqdm(data_loader,total=1+(len(dataset)//512),leave=False):\n",
    "        batch_x = batch_x.to(device)\n",
    "        batch_q = batch_q.to(device)\n",
    "        # batch_c, batch_z = model.encode(batch_x,batch_q)\n",
    "        batch_x_hat,  batch_q_hat = model.reconstruct(batch_x,batch_q)\n",
    "        x.append(batch_x.cpu())\n",
    "        q.append(batch_q.cpu())\n",
    "        # c.append(batch_c.cpu())\n",
    "        # z.append(batch_z.cpu())\n",
    "        x_hat.append(batch_x_hat.detach().cpu())\n",
    "        q_hat.append(batch_q_hat.detach().cpu())\n",
    "\n",
    "    x = torch.cat(x,dim=0).detach().cpu()\n",
    "    q = torch.cat(q,dim=0).detach().cpu()\n",
    "    # c = torch.cat(c,dim=0).detach().cpu()\n",
    "    # z = torch.cat(z,dim=0).detach().cpu()\n",
    "    x_hat = torch.cat(x_hat,dim=0).detach().cpu()\n",
    "    q_hat = torch.cat(q_hat,dim=0).detach().cpu()\n",
    "\n",
    "    return eval_recon(x_hat,q_hat,x, q)"
   ]
  },
  {
   "cell_type": "code",
   "execution_count": null,
   "metadata": {},
   "outputs": [],
   "source": [
    "data_loader = torch.utils.data.DataLoader(dataset=dataset,batch_size=512)\n",
    "z_values = [1,2,3]\n",
    "c_values = [1]\n",
    "model_types = [FusionModel, NaiveFusionModel, JointVAE] \n",
    "eval_results= dict()\n",
    "for model_type, z,c in tqdm(list(itertools.product(model_types, z_values,c_values))):\n",
    "    model_label = f'{model_type.__name__}-z-{z}'\n",
    "    eval_results[model_label] = eval_model(z,c,model_type,dir='models')\n",
    "    \n"
   ]
  },
  {
   "cell_type": "code",
   "execution_count": null,
   "metadata": {},
   "outputs": [],
   "source": [
    "for k in eval_results:\n",
    "    print(f'{k}     :   {eval_results[k]}')"
   ]
  }
 ],
 "metadata": {
  "kernelspec": {
   "display_name": "base",
   "language": "python",
   "name": "python3"
  },
  "language_info": {
   "codemirror_mode": {
    "name": "ipython",
    "version": 3
   },
   "file_extension": ".py",
   "mimetype": "text/x-python",
   "name": "python",
   "nbconvert_exporter": "python",
   "pygments_lexer": "ipython3",
   "version": "3.9.18"
  },
  "orig_nbformat": 4
 },
 "nbformat": 4,
 "nbformat_minor": 2
}
