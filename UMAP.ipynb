{
 "cells": [
  {
   "cell_type": "markdown",
   "metadata": {},
   "source": [
    "# Setup"
   ]
  },
  {
   "cell_type": "code",
   "execution_count": 1,
   "metadata": {},
   "outputs": [
    {
     "name": "stderr",
     "output_type": "stream",
     "text": [
      "/home/austin/.conda/envs/JPLEnv/lib/python3.9/site-packages/umap/distances.py:1063: NumbaDeprecationWarning: The 'nopython' keyword argument was not supplied to the 'numba.jit' decorator. The implicit default value for this argument is currently False, but it will be changed to True in Numba 0.59.0. See https://numba.readthedocs.io/en/stable/reference/deprecation.html#deprecation-of-object-mode-fall-back-behaviour-when-using-jit for details.\n",
      "  @numba.jit()\n",
      "/home/austin/.conda/envs/JPLEnv/lib/python3.9/site-packages/umap/distances.py:1071: NumbaDeprecationWarning: The 'nopython' keyword argument was not supplied to the 'numba.jit' decorator. The implicit default value for this argument is currently False, but it will be changed to True in Numba 0.59.0. See https://numba.readthedocs.io/en/stable/reference/deprecation.html#deprecation-of-object-mode-fall-back-behaviour-when-using-jit for details.\n",
      "  @numba.jit()\n",
      "/home/austin/.conda/envs/JPLEnv/lib/python3.9/site-packages/umap/distances.py:1086: NumbaDeprecationWarning: The 'nopython' keyword argument was not supplied to the 'numba.jit' decorator. The implicit default value for this argument is currently False, but it will be changed to True in Numba 0.59.0. See https://numba.readthedocs.io/en/stable/reference/deprecation.html#deprecation-of-object-mode-fall-back-behaviour-when-using-jit for details.\n",
      "  @numba.jit()\n",
      "/home/austin/.conda/envs/JPLEnv/lib/python3.9/site-packages/umap/umap_.py:660: NumbaDeprecationWarning: The 'nopython' keyword argument was not supplied to the 'numba.jit' decorator. The implicit default value for this argument is currently False, but it will be changed to True in Numba 0.59.0. See https://numba.readthedocs.io/en/stable/reference/deprecation.html#deprecation-of-object-mode-fall-back-behaviour-when-using-jit for details.\n",
      "  @numba.jit()\n"
     ]
    }
   ],
   "source": [
    "from tqdm import tqdm\n",
    "import numpy as np\n",
    "import pandas as pd\n",
    "import time\n",
    "import datetime\n",
    "import sys\n",
    "import matplotlib.pyplot as plt\n",
    "import seaborn as sns\n",
    "import os\n",
    "import shutil\n",
    "import json\n",
    "import pickle\n",
    "np.random.seed(42)\n",
    "\n",
    "from formats import experiment_pb2\n",
    "from formats import  quantification_pb2\n",
    "\n",
    "from skimage import io\n",
    "import pandas as pd\n",
    "import utils\n",
    "\n",
    "\n",
    "from sklearn.decomposition import PCA\n",
    "from sklearn.preprocessing import MinMaxScaler\n",
    "\n",
    "import torch\n",
    "from torch.utils.data import Dataset, DataLoader, ConcatDataset, ChainDataset\n",
    "\n",
    "\n",
    "import os\n",
    "import pyro\n",
    "import pyro.distributions as dist\n",
    "import pyro.poutine\n",
    "from pyro.infer import MCMC, NUTS\n",
    "import math\n",
    "import torch.nn as nn\n",
    "import torch.nn.functional as F\n",
    "from pyro.infer import SVI, Trace_ELBO\n",
    "from pyro.optim import Adam\n",
    "from pyro.infer.autoguide.guides import AutoDiagonalNormal\n",
    "import pyro.distributions.constraints as constraints\n",
    "from tqdm import trange\n",
    "\n",
    "import utils\n",
    "import umap\n"
   ]
  },
  {
   "cell_type": "code",
   "execution_count": 2,
   "metadata": {},
   "outputs": [],
   "source": [
    "local_radius_px = 5"
   ]
  },
  {
   "cell_type": "code",
   "execution_count": 3,
   "metadata": {},
   "outputs": [
    {
     "name": "stderr",
     "output_type": "stream",
     "text": [
      "                                                \r"
     ]
    }
   ],
   "source": [
    "import data\n",
    "dataset = data.get_dataset(local_radius_px=local_radius_px)"
   ]
  },
  {
   "cell_type": "code",
   "execution_count": 28,
   "metadata": {},
   "outputs": [],
   "source": [
    "subsample = 0.1\n",
    "x,q = next(iter(torch.utils.data.DataLoader(dataset=dataset,batch_size=int(subsample*len(dataset)))))\n",
    "x /= x.shape[1]*x.shape[2]/q.shape[1]\n"
   ]
  },
  {
   "cell_type": "code",
   "execution_count": 29,
   "metadata": {},
   "outputs": [],
   "source": [
    "def eval_reconstruction(reconstruction):\n",
    "    x_hat, q_hat = reconstruction\n",
    "    \n",
    "    x_flat = x.reshape(-1,x.shape[-1])\n",
    "    x_hat = x_hat.reshape(-1,x.shape[-1])\n",
    "\n",
    "    x_mean = x_flat.mean(0)\n",
    "    x_ssr = (x_flat - x_hat).pow(2).sum()\n",
    "    x_sst = (x_flat - x_mean).pow(2).sum()\n",
    "    x_r2 = 1 - x_ssr/x_sst\n",
    "\n",
    "    q_mean = q.mean(0)\n",
    "    q_ssr = (q - q_hat).pow(2).sum()\n",
    "    q_sst = (q - q_mean).pow(2).sum()\n",
    "    q_r2 = 1 - q_ssr/q_sst\n",
    "\n",
    "    return x_r2.item(), q_r2.item()"
   ]
  },
  {
   "cell_type": "code",
   "execution_count": 30,
   "metadata": {},
   "outputs": [],
   "source": [
    "def train_joint_umap(n_components):\n",
    "    combined_data = torch.cat((q,x.reshape((x.shape[0],-1))),1)\n",
    "\n",
    "    umap_model = umap.UMAP(n_components=n_components,random_state=42)\n",
    "    umap_model = umap_model.fit(combined_data) \n",
    "    return umap_model\n",
    "    \n",
    "\n",
    "def joint_umap_reconstruct(umap_model):\n",
    "    combined_data = torch.cat((q,x.reshape((x.shape[0],-1))),1)\n",
    "    umap_enc = umap_model.transform(combined_data) \n",
    "    recon = torch.tensor(umap_model.inverse_transform(umap_enc))\n",
    "    q_hat = recon[:,:q.shape[1]] \n",
    "    x_hat = recon[:,q.shape[1]:].reshape(x.shape) \n",
    "    return x_hat, q_hat\n",
    "\n",
    "def joint_umap_latents(umap_model):\n",
    "    combined_data = torch.cat((q,x.reshape((x.shape[0],-1))),1)\n",
    "    umap_enc = umap_model.transform(combined_data) \n",
    "    return umap_enc\n",
    "\n",
    "def save_umap_file(n_components):\n",
    "    print('training...',end='\\r')\n",
    "    umap_model = train_joint_umap(n_components=n_components)\n",
    "    umap_latents = joint_umap_latents(umap_model)\n",
    "    print('reconstructing...',end='\\r')\n",
    "    umap_recon = joint_umap_reconstruct(umap_model)\n",
    "    umap_dict = {\n",
    "        'z' : umap_latents,\n",
    "        'x_hat' : umap_recon[0].numpy(),\n",
    "        'q_hat' : umap_recon[1].numpy(),\n",
    "        'x':x.numpy(),\n",
    "        'q':q.numpy()\n",
    "    }\n",
    "    dbfile = open(f'models/umap-z-{n_components}.pkl', 'ab')\n",
    "    pickle.dump(umap_dict,dbfile)\n",
    "    dbfile.close()\n",
    "    print(eval_reconstruction(umap_recon))\n"
   ]
  },
  {
   "cell_type": "code",
   "execution_count": 31,
   "metadata": {},
   "outputs": [
    {
     "name": "stdout",
     "output_type": "stream",
     "text": [
      "(0.680641770362854, 0.6511508226394653)\n"
     ]
    }
   ],
   "source": [
    "save_umap_file(2)"
   ]
  },
  {
   "cell_type": "code",
   "execution_count": 32,
   "metadata": {},
   "outputs": [
    {
     "name": "stdout",
     "output_type": "stream",
     "text": [
      "(0.695252537727356, 0.6331181526184082)\n"
     ]
    }
   ],
   "source": [
    "save_umap_file(3)"
   ]
  },
  {
   "cell_type": "code",
   "execution_count": null,
   "metadata": {},
   "outputs": [],
   "source": []
  }
 ],
 "metadata": {
  "kernelspec": {
   "display_name": "base",
   "language": "python",
   "name": "python3"
  },
  "language_info": {
   "codemirror_mode": {
    "name": "ipython",
    "version": 3
   },
   "file_extension": ".py",
   "mimetype": "text/x-python",
   "name": "python",
   "nbconvert_exporter": "python",
   "pygments_lexer": "ipython3",
   "version": "3.9.18"
  },
  "orig_nbformat": 4
 },
 "nbformat": 4,
 "nbformat_minor": 2
}
